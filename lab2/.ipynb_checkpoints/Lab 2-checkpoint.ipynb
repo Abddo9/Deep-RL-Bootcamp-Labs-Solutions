{
 "cells": [
  {
   "cell_type": "code",
   "execution_count": 1,
   "metadata": {},
   "outputs": [],
   "source": [
    "\"\"\"\n",
    "This project was developed by Peter Chen, Rocky Duan, Pieter Abbeel for the Berkeley Deep RL Bootcamp, August 2017.\n",
    "Bootcamp website with slides and lecture videos: https://sites.google.com/view/deep-rl-bootcamp/.\n",
    "\n",
    "Code adapted from Stanford CS231N materials: http://cs231n.stanford.edu/\n",
    "\"\"\"\n",
    "\n",
    "\n",
    "# note to properly run this lab, you should execute all code blocks sequentially\n",
    "import chainer\n",
    "import chainer.functions as F\n",
    "import chainer.links as L\n",
    "from chainer import training\n",
    "from chainer.training import extensions\n",
    "\n",
    "from collections import namedtuple, defaultdict, deque\n",
    "\n",
    "import numpy as np\n",
    "\n",
    "%matplotlib inline\n",
    "\n",
    "import matplotlib\n",
    "import matplotlib.pyplot as plt"
   ]
  },
  {
   "cell_type": "markdown",
   "metadata": {},
   "source": [
    "## Introduction to Chainer\n",
    "\n",
    "Chainer can be understood as Numpy plus the ability to record the computation graph of numerical operations to enable Automatic Differentiation. (Chainer actually also offers many other things; for example, a Numpy equivalent library that runs on GPU, but we will ignore them for now)"
   ]
  },
  {
   "cell_type": "markdown",
   "metadata": {},
   "source": [
    "Let's illustrate how Chainer works by a simple 1D regression task.\n",
    "\n",
    "Suppose we have observations from the following model $y = w x + b + \\epsilon$ where $\\epsilon \\sim \\mathcal{N}(0, 0.1)$ and the task is to estimate the linear model parameters $w, b$ from data."
   ]
  },
  {
   "cell_type": "code",
   "execution_count": 2,
   "metadata": {},
   "outputs": [
    {
     "data": {
      "image/png": "[encoded data removed]",
      "text/plain": [
       "<Figure size 432x288 with 1 Axes>"
      ]
     },
     "metadata": {
      "needs_background": "light"
     },
     "output_type": "display_data"
    }
   ],
   "source": [
    "# first generate some observations\n",
    "true_a = 1.3\n",
    "true_b = 0.4\n",
    "data_x = (np.arange(100) / 99.0 - .5).astype(np.float32) # Chainer assumes all the cpu computation is done in float32\n",
    "data_y = (data_x * true_a + true_b + np.random.randn(*data_x.shape) * 0.1).astype(np.float32)\n",
    "_ = plt.scatter(data_x, data_y, c='b')"
   ]
  },
  {
   "cell_type": "markdown",
   "metadata": {},
   "source": [
    "Chainer provides an abstraction called `Link` that describe some computation and keeps track of parameters for it. For instance, a `Linear` link describes a linear map on input and keeps track of `w` and bias `b`."
   ]
  },
  {
   "cell_type": "code",
   "execution_count": 3,
   "metadata": {},
   "outputs": [
    {
     "name": "stdout",
     "output_type": "stream",
     "text": [
      "w: variable W([[0.05358605]])\n",
      "b: variable b([0.])\n",
      "Operations on chainer.Variable: variable([[123.05359]]), type: <class 'chainer.variable.Variable'>\n",
      "numpy arrays: [[0.05358605]] [[123.05359]]\n"
     ]
    }
   ],
   "source": [
    "model = L.Linear(in_size=1, out_size=1) # input is 1D data and output is also 1D data\n",
    "\n",
    "# Chainer will randomly initialize `w` and `b` for us.\n",
    "# we can take a look at their values\n",
    "print(\"w:\", model.W)\n",
    "print(\"b:\", model.b)\n",
    "\n",
    "# model.W and model.b have type `chainer.Variable`, \n",
    "#   which is a wrapper around Numpy array\n",
    "assert isinstance(model.W, chainer.Variable)\n",
    "\n",
    "# operations that involve `chainer.Variable` will produce\n",
    "#   `chainer.Variable` and this records the computation graph\n",
    "var_result = model.W + 123 # some random computation\n",
    "print(\"Operations on chainer.Variable: %s, type: %s\" % (var_result, type(var_result)))\n",
    "\n",
    "# the underlying numpy array can be accessed by `data` attribute\n",
    "print(\"numpy arrays:\", model.W.data, var_result.data)"
   ]
  },
  {
   "cell_type": "code",
   "execution_count": 4,
   "metadata": {},
   "outputs": [
    {
     "data": {
      "image/png": "[encoded data removed]",
      "text/plain": [
       "<Figure size 432x288 with 1 Axes>"
      ]
     },
     "metadata": {
      "needs_background": "light"
     },
     "output_type": "display_data"
    }
   ],
   "source": [
    "# A chainer link is a callable object. calling it performs the\n",
    "#   forward computation. (in this case, it performs Wx + b)\n",
    "model_y = model(data_x[:, None]) # chainer's link usually assumes input is [Batch Size, Input Dimension]\n",
    "# `model_y` is a chainer variable so we use `.data` to access its numpy array for plotting\n",
    "\n",
    "# we can plot the model's current fit in red. it should be terrible because we haven't trained it yet\n",
    "_ = plt.plot(data_x, model_y.data[:,0], c='r')\n",
    "_ = plt.scatter(data_x, data_y, c='b')\n",
    "_ = plt.title(\"Initial model\")"
   ]
  },
  {
   "cell_type": "code",
   "execution_count": 5,
   "metadata": {},
   "outputs": [
    {
     "name": "stdout",
     "output_type": "stream",
     "text": [
      "loss variable(0.29805216)\n",
      "dloss/dW [[-0.21181306]]\n"
     ]
    }
   ],
   "source": [
    "# now let's walk through how to perform forward computation\n",
    "#  and use AD to get gradients\n",
    "\n",
    "# first we clear the gradients that are stored in the model\n",
    "model.cleargrads()\n",
    "# as we have seen we can perform forward computation by calling the link\n",
    "model_y = model(data_x[:, None])\n",
    "\n",
    "# remember that `model_y` is a chainer variable. to operate on chainer variable\n",
    "#    we will use functions from chainer.functions to operate on those objects.\n",
    "loss = F.mean(F.square(model_y - data_y[:, None]))\n",
    "# `loss` is a scalar chainer variable\n",
    "assert isinstance(loss, chainer.Variable)\n",
    "print(\"loss\", loss)\n",
    "# calculating gradients d loss /d params is as simple as\n",
    "loss.backward()\n",
    "\n",
    "# we can inspect the gradient of loss with respect to W\n",
    "print(\"dloss/dW\", model.W.grad)"
   ]
  },
  {
   "cell_type": "markdown",
   "metadata": {},
   "source": [
    "Now that we know how to calculate gradients, we can code up a simple loop to perform gradient descent to train this model:\n",
    "\n",
    "(Hint: if you run into weird problems, maybe the state has been messed up and you can try re-runing all the code blocks from the beginning)"
   ]
  },
  {
   "cell_type": "code",
   "execution_count": 12,
   "metadata": {},
   "outputs": [
    {
     "name": "stdout",
     "output_type": "stream",
     "text": [
      "Itr 25 loss: variable(0.01327558)\n",
      "Itr 50 loss: variable(0.01182394)\n",
      "Itr 75 loss: variable(0.01120957)\n",
      "Itr 100 loss: variable(0.01094894)\n"
     ]
    },
    {
     "data": {
      "image/png": "[encoded data removed]",
      "text/plain": [
       "<Figure size 432x288 with 1 Axes>"
      ]
     },
     "metadata": {
      "needs_background": "light"
     },
     "output_type": "display_data"
    },
    {
     "data": {
      "image/png": "[encoded data removed]",
      "text/plain": [
       "<Figure size 432x288 with 1 Axes>"
      ]
     },
     "metadata": {
      "needs_background": "light"
     },
     "output_type": "display_data"
    }
   ],
   "source": [
    "# now we can perform gradient descent to improve this model\n",
    "model = L.Linear(in_size=1, out_size=1)\n",
    "losses = []\n",
    "alpha = 1e-1\n",
    "for i in range(1, 101):\n",
    "    model.cleargrads()\n",
    "    loss = F.mean(F.square(model(data_x[:, None]) - data_y[:, None]))\n",
    "    losses.append(float(loss.data))\n",
    "    ## *** YOUR CODE HERE TO PERFORM GRADIENT DESCENT ***\n",
    "    ## Hint: you could access gradients with model.W.grad, model.b.grad\n",
    "    ## Hint2: you could write data into a parameter with model.W.data[:] = some_numpy_array\n",
    "    ## Hint3: if your model doesn't learn, remember to try different learning rates\n",
    "    \n",
    "    loss.backward()\n",
    "    model.W.data[:] -= alpha * model.W.grad\n",
    "    model.b.data[:] -= alpha * model.b.grad\n",
    "    \n",
    "    if i % 25 == 0:\n",
    "        print(\"Itr\", i, \"loss:\", loss)\n",
    "plt.plot(np.array(losses))\n",
    "plt.title(\"Learning curve\")\n",
    "plt.figure()\n",
    "plt.plot(data_x, model(data_x[:, None])[:,0].data, c='r')\n",
    "plt.scatter(data_x, data_y, c='b')\n",
    "_ = plt.title(\"Trained model fitness\")\n"
   ]
  },
  {
   "cell_type": "markdown",
   "metadata": {},
   "source": [
    "## Train your first deep model\n",
    "\n",
    "Now we have learned the basics of Chainer. We can use it to train a deep model to classify MNIST digits. We will train a model on the MNIST dataset because the dataset is small.\n",
    "\n",
    "First we load the data and see what the images look like:"
   ]
  },
  {
   "cell_type": "code",
   "execution_count": 13,
   "metadata": {
    "scrolled": false
   },
   "outputs": [
    {
     "name": "stdout",
     "output_type": "stream",
     "text": [
      "Downloading from http://yann.lecun.com/exdb/mnist/train-images-idx3-ubyte.gz...\n",
      "Downloading from http://yann.lecun.com/exdb/mnist/train-labels-idx1-ubyte.gz...\n",
      "Downloading from http://yann.lecun.com/exdb/mnist/t10k-images-idx3-ubyte.gz...\n",
      "Downloading from http://yann.lecun.com/exdb/mnist/t10k-labels-idx1-ubyte.gz...\n",
      "train[i][0] is the ith image that's flattened, and has shape: (784,)\n",
      "train[i][1] is the ith image's label, such as: 3\n"
     ]
    },
    {
     "data": {
      "image/png": "[encoded data removed]",
      "text/plain": [
       "<Figure size 432x288 with 1 Axes>"
      ]
     },
     "metadata": {
      "needs_background": "light"
     },
     "output_type": "display_data"
    },
    {
     "data": {
      "image/png": "[encoded data removed]",
      "text/plain": [
       "<Figure size 432x288 with 1 Axes>"
      ]
     },
     "metadata": {
      "needs_background": "light"
     },
     "output_type": "display_data"
    }
   ],
   "source": [
    "train, test = chainer.datasets.get_mnist()\n",
    "# use train[data_point_index] to access data\n",
    "print(\"train[i][0] is the ith image that's flattened, and has shape:\", train[12][0].shape)\n",
    "print(\"train[i][1] is the ith image's label, such as:\", train[12][1])\n",
    "# here we visualize two of them\n",
    "plt.imshow(train[12][0].reshape([28, 28,]))\n",
    "plt.title(\"Label: %s\" % train[12][1])\n",
    "plt.figure()\n",
    "plt.imshow(train[42][0].reshape([28, 28,]))\n",
    "_ = plt.title(\"Label: %s\" % train[42][1])"
   ]
  },
  {
   "cell_type": "markdown",
   "metadata": {},
   "source": [
    "Next we will provide some boilerplate code and train a linear classifier as an example:"
   ]
  },
  {
   "cell_type": "code",
   "execution_count": 31,
   "metadata": {},
   "outputs": [
    {
     "name": "stdout",
     "output_type": "stream",
     "text": [
      "loss: 2.4211511611938477; accuracy: 0.0625\n",
      "loss: 0.6081136751174927; accuracy: 0.8575\n",
      "loss: 0.47415107071399687; accuracy: 0.8875\n",
      "loss: 0.4016293579339981; accuracy: 0.8975\n",
      "loss: 0.41596574723720553; accuracy: 0.905\n",
      "loss: 0.34698661148548127; accuracy: 0.9125\n",
      "loss: 0.3854022434353828; accuracy: 0.895\n",
      "loss: 0.3341955006122589; accuracy: 0.9125\n",
      "loss: 0.30930579334497454; accuracy: 0.9175\n",
      "loss: 0.2824681605398655; accuracy: 0.9125\n",
      "loss: 0.2539494761824608; accuracy: 0.9375\n",
      "loss: 0.2303125974535942; accuracy: 0.9225\n",
      "loss: 0.28343621402978897; accuracy: 0.92\n",
      "loss: 0.27566997408866883; accuracy: 0.9225\n",
      "loss: 0.28777062982320784; accuracy: 0.9175\n",
      "loss: 0.29875737607479097; accuracy: 0.905\n",
      "loss: 0.2586702290177345; accuracy: 0.9325\n",
      "loss: 0.3454239168763161; accuracy: 0.9075\n",
      "loss: 0.28753429114818574; accuracy: 0.9175\n",
      "loss: 0.24240862280130387; accuracy: 0.945\n",
      "loss: 0.2735432979464531; accuracy: 0.93\n",
      "loss: 0.2572418063879013; accuracy: 0.925\n",
      "loss: 0.38964304625988005; accuracy: 0.8875\n",
      "loss: 0.23568003475666047; accuracy: 0.94\n",
      "loss: 0.2993630415201187; accuracy: 0.9175\n",
      "loss: 0.2256660732626915; accuracy: 0.9325\n"
     ]
    }
   ],
   "source": [
    "def run(model, batchsize=16, num_epochs=2):\n",
    "    \n",
    "    optimizer = chainer.optimizers.Adam() # we will use chainer's Adam implementation instead of writing our own gradient based optimization\n",
    "    optimizer.setup(model)\n",
    "    \n",
    "    stats = defaultdict(lambda: deque(maxlen=25))\n",
    "    for epoch in range(num_epochs):\n",
    "        train_iter = chainer.iterators.SerialIterator(train, batchsize, repeat=False, shuffle=True)\n",
    "        test_iter = chainer.iterators.SerialIterator(test, batchsize, repeat=False, shuffle=False)\n",
    "        \n",
    "        for itr, batch in enumerate(train_iter):\n",
    "            xs = np.concatenate([datum[0][None, :] for datum in batch])\n",
    "            ys = np.array([datum[1] for datum in batch])\n",
    "\n",
    "            logits = model(xs)\n",
    "\n",
    "            loss = F.softmax_cross_entropy(logits, ys)\n",
    "            model.cleargrads()\n",
    "            loss.backward()\n",
    "            optimizer.update()\n",
    "            \n",
    "            # calculate stats\n",
    "            stats[\"loss\"].append(float(loss.data))\n",
    "            stats[\"accuracy\"].append(float((logits.data.argmax(1) == ys).sum() / batchsize))\n",
    "            if itr % 300 == 0:\n",
    "                print(\"; \".join(\"%s: %s\" % (k, np.mean(vs)) for k, vs in stats.items()))\n",
    "\n",
    "# try a simple linear model\n",
    "run(L.Linear(None, 10))"
   ]
  },
  {
   "cell_type": "markdown",
   "metadata": {},
   "source": [
    "Next we will try to improve performance by training an MLP instead. A partial implementation is provided for you to fill in:"
   ]
  },
  {
   "cell_type": "code",
   "execution_count": 33,
   "metadata": {},
   "outputs": [
    {
     "name": "stdout",
     "output_type": "stream",
     "text": [
      "loss: 2.326853036880493; accuracy: 0.0625\n",
      "loss: 0.2757555085420609; accuracy: 0.92\n",
      "loss: 0.24781911313533783; accuracy: 0.93\n",
      "loss: 0.2823799079656601; accuracy: 0.915\n",
      "loss: 0.13059149980545043; accuracy: 0.955\n",
      "loss: 0.14024290084838867; accuracy: 0.95\n",
      "loss: 0.13919701039791108; accuracy: 0.9525\n",
      "loss: 0.1656513160467148; accuracy: 0.9375\n",
      "loss: 0.19696386992931367; accuracy: 0.935\n",
      "loss: 0.11207569777965545; accuracy: 0.9725\n",
      "loss: 0.08859254240989685; accuracy: 0.9775\n",
      "loss: 0.08899017840623856; accuracy: 0.9775\n",
      "loss: 0.09176443487405778; accuracy: 0.9625\n",
      "loss: 0.1484675207734108; accuracy: 0.9575\n",
      "loss: 0.05822312742471695; accuracy: 0.9925\n",
      "loss: 0.09736457169055938; accuracy: 0.9625\n",
      "loss: 0.07869145631790161; accuracy: 0.975\n",
      "loss: 0.10212347567081452; accuracy: 0.97\n",
      "loss: 0.06688574850559234; accuracy: 0.9825\n",
      "loss: 0.09974398314952851; accuracy: 0.965\n",
      "loss: 0.0959735494852066; accuracy: 0.9725\n",
      "loss: 0.060677850246429445; accuracy: 0.985\n",
      "loss: 0.07022946834564209; accuracy: 0.9825\n",
      "loss: 0.09870680272579194; accuracy: 0.97\n",
      "loss: 0.11248622596263885; accuracy: 0.97\n",
      "loss: 0.11731831610202789; accuracy: 0.96\n"
     ]
    }
   ],
   "source": [
    "class MLP(chainer.Chain):\n",
    "\n",
    "    def __init__(self, n_units, n_out):\n",
    "        super(MLP, self).__init__()\n",
    "        with self.init_scope():\n",
    "            # the size of the inputs to each layer will be inferred\n",
    "            self.l1 = L.Linear(None, n_units)  # n_in -> n_units\n",
    "            self.l2 = L.Linear(None, n_units)  # n_units -> n_units\n",
    "            self.l3 = L.Linear(None, n_out)  # n_units -> n_out\n",
    "\n",
    "    def __call__(self, x):\n",
    "        # *** YOUR CODE HERE TO BUILD AN MLP W/ self.l1, self.l2, self.l3 ***\n",
    "        # \n",
    "        # Hint: you should make use of non-linearities / activation functions\n",
    "        #     https://docs.chainer.org/en/stable/reference/functions.html#activation-functions\n",
    "        x = self.l1(x)\n",
    "        x = F.relu(x)\n",
    "        x = self.l2(x)\n",
    "        x = F.relu(x)\n",
    "        return self.l3(x)\n",
    "run(MLP(200, 10))"
   ]
  },
  {
   "cell_type": "markdown",
   "metadata": {},
   "source": [
    "Next you should try to implement logging test loss and see if the model is overfitting."
   ]
  },
  {
   "cell_type": "code",
   "execution_count": 36,
   "metadata": {},
   "outputs": [
    {
     "name": "stdout",
     "output_type": "stream",
     "text": [
      "loss: 2.2849507331848145; accuracy: 0.0625; test_loss: 2.282744274139404; test_accuracy: 0.1575\n",
      "loss: 0.28181080520153046; accuracy: 0.9225; test_loss: 0.4651762771606445; test_accuracy: 0.855\n",
      "loss: 0.31056628525257113; accuracy: 0.9; test_loss: 0.38984266757965086; test_accuracy: 0.8825\n",
      "loss: 0.21296002537012101; accuracy: 0.945; test_loss: 0.33610536098480226; test_accuracy: 0.9\n",
      "loss: 0.1732858443260193; accuracy: 0.9475; test_loss: 0.33478225201368333; test_accuracy: 0.8875\n",
      "loss: 0.12292073845863342; accuracy: 0.9775; test_loss: 0.26841369807720183; test_accuracy: 0.9175\n",
      "loss: 0.09470055818557739; accuracy: 0.975; test_loss: 0.33756480515003207; test_accuracy: 0.8825\n",
      "loss: 0.13689048409461976; accuracy: 0.95; test_loss: 0.32104969650506976; test_accuracy: 0.8975\n",
      "loss: 0.1374117314815521; accuracy: 0.9625; test_loss: 0.22489533066749573; test_accuracy: 0.925\n",
      "loss: 0.12983923017978669; accuracy: 0.9675; test_loss: 0.22453544914722443; test_accuracy: 0.9325\n",
      "loss: 0.11743886113166808; accuracy: 0.96; test_loss: 0.21185334473848344; test_accuracy: 0.9375\n",
      "loss: 0.0688504695892334; accuracy: 0.9725; test_loss: 0.20795774221420288; test_accuracy: 0.9175\n",
      "loss: 0.08251181155443192; accuracy: 0.9725; test_loss: 0.19275664150714875; test_accuracy: 0.935\n",
      "loss: 0.1339113223552704; accuracy: 0.9575; test_loss: 0.18695224583148956; test_accuracy: 0.94\n",
      "loss: 0.08451673448085785; accuracy: 0.9675; test_loss: 0.19415801435709; test_accuracy: 0.9375\n",
      "loss: 0.1320635223388672; accuracy: 0.9625; test_loss: 0.1268226659297943; test_accuracy: 0.955\n",
      "loss: 0.11840528547763825; accuracy: 0.9675; test_loss: 0.16689276933670044; test_accuracy: 0.935\n",
      "loss: 0.05607673883438111; accuracy: 0.9825; test_loss: 0.1720129954814911; test_accuracy: 0.9475\n",
      "loss: 0.1314896497130394; accuracy: 0.9625; test_loss: 0.19396801829338073; test_accuracy: 0.9525\n",
      "loss: 0.09805908858776093; accuracy: 0.9675; test_loss: 0.1558396691083908; test_accuracy: 0.95\n",
      "loss: 0.05888467729091644; accuracy: 0.985; test_loss: 0.16116998344659805; test_accuracy: 0.95\n",
      "loss: 0.04662227541208267; accuracy: 0.985; test_loss: 0.11948852688074112; test_accuracy: 0.965\n",
      "loss: 0.11328910231590271; accuracy: 0.9575; test_loss: 0.15757347464561464; test_accuracy: 0.94\n",
      "loss: 0.07606208920478821; accuracy: 0.9825; test_loss: 0.11673380553722382; test_accuracy: 0.9675\n",
      "loss: 0.0596974828839302; accuracy: 0.975; test_loss: 0.16025961339473724; test_accuracy: 0.9475\n",
      "loss: 0.08548144340515136; accuracy: 0.9775; test_loss: 0.1542481741309166; test_accuracy: 0.955\n",
      "loss: 0.07625488519668579; accuracy: 0.975; test_loss: 0.1500442850589752; test_accuracy: 0.95\n",
      "loss: 0.05960736691951752; accuracy: 0.98; test_loss: 0.14332266986370087; test_accuracy: 0.9575\n",
      "loss: 0.0566874772310257; accuracy: 0.9825; test_loss: 0.1877936154603958; test_accuracy: 0.9525\n",
      "loss: 0.0700740760564804; accuracy: 0.9775; test_loss: 0.17575249314308167; test_accuracy: 0.945\n",
      "loss: 0.04291540294885635; accuracy: 0.9875; test_loss: 0.17741163074970245; test_accuracy: 0.9425\n",
      "loss: 0.09906985104084015; accuracy: 0.97; test_loss: 0.16510586321353912; test_accuracy: 0.9525\n",
      "loss: 0.05935121893882751; accuracy: 0.9825; test_loss: 0.17095597743988036; test_accuracy: 0.945\n",
      "loss: 0.07941041469573974; accuracy: 0.9775; test_loss: 0.2291410282254219; test_accuracy: 0.945\n",
      "loss: 0.07321448802947998; accuracy: 0.9775; test_loss: 0.23704303562641144; test_accuracy: 0.9425\n",
      "loss: 0.0515780508518219; accuracy: 0.98; test_loss: 0.13648330599069594; test_accuracy: 0.9525\n",
      "loss: 0.019043617248535157; accuracy: 0.995; test_loss: 0.22873346030712127; test_accuracy: 0.9425\n",
      "loss: 0.04164846062660217; accuracy: 0.99; test_loss: 0.1877095153927803; test_accuracy: 0.9475\n",
      "loss: 0.05156426131725311; accuracy: 0.98; test_loss: 0.133607921898365; test_accuracy: 0.965\n"
     ]
    }
   ],
   "source": [
    "def better_run(model, batchsize=16, num_epochs=3):\n",
    "\n",
    "    optimizer = chainer.optimizers.Adam() # we will use chainer's Adam implementation instead of writing our own gradient based optimization\n",
    "    optimizer.setup(model)\n",
    "    \n",
    "    stats = defaultdict(lambda: deque(maxlen=25))\n",
    "    for epoch in range(num_epochs):\n",
    "        train_iter = chainer.iterators.SerialIterator(train, batchsize, repeat=False, shuffle=True)\n",
    "        for itr, batch in enumerate(train_iter):\n",
    "            xs = np.concatenate([datum[0][None, :] for datum in batch])\n",
    "            ys = np.array([datum[1] for datum in batch])\n",
    "\n",
    "            logits = model(xs)\n",
    "\n",
    "            loss = F.softmax_cross_entropy(logits, ys)\n",
    "            model.cleargrads()\n",
    "            loss.backward()\n",
    "            optimizer.update()\n",
    "            \n",
    "            # calculate stats\n",
    "            stats[\"loss\"].append(float(loss.data))\n",
    "            stats[\"accuracy\"].append(float((logits.data.argmax(1) == ys).sum() / batchsize))\n",
    "            if itr % 300 == 0:\n",
    "                test_iter = chainer.iterators.SerialIterator(test, batchsize, repeat=False, shuffle=False)\n",
    "                # *** YOUR CODE implement logging of stats on test set ***\n",
    "                for t_itr, test_batch in enumerate(test_iter):\n",
    "                    xs = np.concatenate([datum[0][None, :] for datum in test_batch])\n",
    "                    ys = np.array([datum[1] for datum in test_batch])\n",
    "        \n",
    "                    logits = model(xs)\n",
    "        \n",
    "                    test_loss = F.softmax_cross_entropy(logits, ys)\n",
    "                    \n",
    "                    # calculate stats\n",
    "                    stats[\"test_loss\"].append(float(test_loss.data))\n",
    "                    stats[\"test_accuracy\"].append(float((logits.data.argmax(1) == ys).sum() / batchsize))\n",
    "                \n",
    "                print(\"; \".join(\"%s: %s\" % (k, np.mean(vs)) for k, vs in stats.items()))\n",
    "\n",
    "better_run(MLP(200, 10))"
   ]
  },
  {
   "cell_type": "markdown",
   "metadata": {},
   "source": [
    "Try different variants!\n",
    "\n",
    "- Does using a ConvNet improve performance (reduce overfitting?)\n",
    "- Try changing the learning rate and observe the effect\n",
    "- Does the model train if you give it correlated gradients? (consecutively sample many batches of \"1\", then many batches of \"2\", ... etc"
   ]
  },
  {
   "cell_type": "markdown",
   "metadata": {},
   "source": [
    "# A Conv Model (added by me)\n"
   ]
  },
  {
   "cell_type": "code",
   "execution_count": 45,
   "metadata": {},
   "outputs": [],
   "source": [
    "class ConvMLP(chainer.Chain):\n",
    "\n",
    "    def __init__(self, n_units, n_out):\n",
    "        super(ConvMLP, self).__init__()\n",
    "        with self.init_scope():\n",
    "            # the size of the inputs to each layer will be inferred\n",
    "            self.conv1 = L.Convolution2D(None, out_channels=64, ksize=3, stride=1)\n",
    "            self.conv2 = L.Convolution2D(None, out_channels=64, ksize=3, stride=1)\n",
    "            self.l1 = L.Linear(None, n_units)  # n_units -> n_units\n",
    "            self.l2 = L.Linear(None, n_out)  # n_units -> n_out\n",
    "\n",
    "    def __call__(self, x):\n",
    "        # *** YOUR CODE HERE TO BUILD AN MLP W/ self.l1, self.l2, self.l3 ***\n",
    "        # \n",
    "        # Hint: you should make use of non-linearities / activation functions\n",
    "        #     https://docs.chainer.org/en/stable/reference/functions.html#activation-functions\n",
    "        x = self.conv1(x)\n",
    "        x = F.relu(x)\n",
    "        #x = F.max_pooling_2d(x, 2, 2)\n",
    "        x = self.conv2(x)\n",
    "        x = F.relu(x)\n",
    "        #x = F.max_pooling_2d(x, 2, 2)\n",
    "        x = self.l1(x)\n",
    "        x = F.relu(x)\n",
    "        return self.l2(x)\n"
   ]
  },
  {
   "cell_type": "markdown",
   "metadata": {},
   "source": [
    "# Updated run function \n",
    "To be able to run the new model we need to reshape the input to be used by a Conv2D\n"
   ]
  },
  {
   "cell_type": "code",
   "execution_count": null,
   "metadata": {},
   "outputs": [],
   "source": [
    "def better_run2D(model, batchsize=16, num_epochs=2):\n",
    "\n",
    "    optimizer = chainer.optimizers.Adam() # we will use chainer's Adam implementation instead of writing our own gradient based optimization\n",
    "    optimizer.setup(model)\n",
    "    \n",
    "    stats = defaultdict(lambda: deque(maxlen=25))\n",
    "    for epoch in range(num_epochs):\n",
    "        train_iter = chainer.iterators.SerialIterator(train, batchsize, repeat=False, shuffle=True)\n",
    "        for itr, batch in enumerate(train_iter):\n",
    "            xs = np.concatenate([datum[0][None, :].reshape(1, 1, 28,28) for datum in batch])\n",
    "            ys = np.array([datum[1] for datum in batch])\n",
    "\n",
    "            logits = model(xs)\n",
    "\n",
    "            loss = F.softmax_cross_entropy(logits, ys)\n",
    "            model.cleargrads()\n",
    "            loss.backward()\n",
    "            optimizer.update()\n",
    "            \n",
    "            # calculate stats\n",
    "            stats[\"loss\"].append(float(loss.data))\n",
    "            stats[\"accuracy\"].append(float((logits.data.argmax(1) == ys).sum() / batchsize))\n",
    "            if itr % 300 == 0:\n",
    "                test_iter = chainer.iterators.SerialIterator(test, batchsize, repeat=False, shuffle=False)\n",
    "                # *** YOUR CODE implement logging of stats on test set ***\n",
    "                for t_itr, test_batch in enumerate(test_iter):\n",
    "                    xs = np.concatenate([datum[0][None, :].reshape(1, 1, 28,28) for datum in test_batch])\n",
    "                    ys = np.array([datum[1] for datum in test_batch])\n",
    "        \n",
    "                    logits = model(xs)\n",
    "        \n",
    "                    test_loss = F.softmax_cross_entropy(logits, ys)\n",
    "                    \n",
    "                    # calculate stats\n",
    "                    stats[\"test_loss\"].append(float(test_loss.data))\n",
    "                    stats[\"test_accuracy\"].append(float((logits.data.argmax(1) == ys).sum() / batchsize))\n",
    "                \n",
    "                print(\"; \".join(\"%s: %s\" % (k, np.mean(vs)) for k, vs in stats.items()))\n",
    "                \n",
    "better_run2D(ConvMLP(200, 10))"
   ]
  },
  {
   "cell_type": "code",
   "execution_count": null,
   "metadata": {},
   "outputs": [],
   "source": []
  }
 ],
 "metadata": {
  "kernelspec": {
   "display_name": "Python 3 (ipykernel)",
   "language": "python",
   "name": "python3"
  },
  "language_info": {
   "codemirror_mode": {
    "name": "ipython",
    "version": 3
   },
   "file_extension": ".py",
   "mimetype": "text/x-python",
   "name": "python",
   "nbconvert_exporter": "python",
   "pygments_lexer": "ipython3",
   "version": "3.10.4"
  }
 },
 "nbformat": 4,
 "nbformat_minor": 1
}
